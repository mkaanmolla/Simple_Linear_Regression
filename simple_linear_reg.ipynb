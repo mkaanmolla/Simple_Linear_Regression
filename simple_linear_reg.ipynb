{
 "cells": [
  {
   "cell_type": "code",
   "execution_count": null,
   "metadata": {},
   "outputs": [],
   "source": [
    "import pandas as pd\n",
    "import numpy as np\n",
    "import matplotlib.pyplot as plt\n",
    "from sklearn.linear_model import LinearRegression\n",
    "\n",
    "# Generate a Pandas DataFrame \n",
    "df = pd.DataFrame({'Year': [1950, 1970, 1980, 1990, 2000, 2001, 2003, 2008, 2018, 2022],\n",
    "                   'Price': [100000, 125000, 145000, 150000, 165000, 170000, 200000, 235000, 255000, 300000]})\n",
    "\n",
    "# Reshape \n",
    "x = df['Year'].values.reshape(-1,1)\n",
    "y = df['Price'].values.reshape(-1,1)\n",
    "# Create a linear regression object\n",
    "model = LinearRegression()\n",
    "\n",
    "# Fit the model to the data\n",
    "model.fit(x, y)\n",
    "\n",
    "# Print the slope and intercept of the regression line\n",
    "print('Slope:', model.coef_[0])\n",
    "print('Intercept:', model.intercept_)\n",
    "\n",
    "# Predict new values using the model\n",
    "x_new = np.array([1954, 1965, 1973, 1992, 2005, 2023, 2050])\n",
    "y_new = model.predict(x_new.reshape(-1, 1))\n",
    "\n",
    "# Plot the data and the regression line\n",
    "plt.scatter(x, y, color='blue')\n",
    "plt.scatter(x_new, y_new, color='black')\n",
    "plt.plot(x_new, y_new, color='red')  # Plot the predicted values\n",
    "plt.xlabel('Independent variable (x)')\n",
    "plt.ylabel('Dependent variable (y)')\n",
    "plt.show()\n",
    "\n",
    "df_pred = pd.DataFrame({'New_Year':x_new , 'Predicted_Price': y_new.reshape(7,)})\n",
    "print(display(df))\n",
    "display(df_pred)\n",
    "\n"
   ]
  }
 ],
 "metadata": {
  "language_info": {
   "name": "python"
  },
  "orig_nbformat": 4
 },
 "nbformat": 4,
 "nbformat_minor": 2
}
